{
 "cells": [
  {
   "cell_type": "code",
   "execution_count": 12,
   "id": "c073fff3",
   "metadata": {},
   "outputs": [],
   "source": [
    "import pymongo\n",
    "import tqdm"
   ]
  },
  {
   "cell_type": "code",
   "execution_count": 18,
   "id": "db1f428e",
   "metadata": {},
   "outputs": [],
   "source": [
    "client = pymongo.MongoClient('mongodb://localhost:27017')\n",
    "db = client['novelty_sample']"
   ]
  },
  {
   "cell_type": "code",
   "execution_count": 20,
   "id": "5ba3238e",
   "metadata": {},
   "outputs": [
    {
     "name": "stderr",
     "output_type": "stream",
     "text": [
      "1469352it [00:16, 88985.70it/s] \n"
     ]
    }
   ],
   "source": [
    "col = db['Citation_net_sample']\n",
    "docs = col.find({})\n",
    "nb_ref = []\n",
    "for doc in tqdm.tqdm(docs):\n",
    "    if 'refs_pmid_wos' in doc:\n",
    "        nb_ref.append(len(doc['refs_pmid_wos']))"
   ]
  },
  {
   "cell_type": "code",
   "execution_count": 21,
   "id": "5022984b",
   "metadata": {},
   "outputs": [
    {
     "name": "stdout",
     "output_type": "stream",
     "text": [
      "30.76267157223048\n"
     ]
    },
    {
     "data": {
      "text/plain": [
       "837.7833780251406"
      ]
     },
     "execution_count": 21,
     "metadata": {},
     "output_type": "execute_result"
    }
   ],
   "source": [
    "import numpy as np\n",
    "print(np.mean(nb_ref))\n",
    "np.var(nb_ref)"
   ]
  }
 ],
 "metadata": {
  "kernelspec": {
   "display_name": "Python 3 (ipykernel)",
   "language": "python",
   "name": "python3"
  },
  "language_info": {
   "codemirror_mode": {
    "name": "ipython",
    "version": 3
   },
   "file_extension": ".py",
   "mimetype": "text/x-python",
   "name": "python",
   "nbconvert_exporter": "python",
   "pygments_lexer": "ipython3",
   "version": "3.9.7"
  }
 },
 "nbformat": 4,
 "nbformat_minor": 5
}
