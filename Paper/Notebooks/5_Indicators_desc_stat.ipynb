{
 "cells": [
  {
   "cell_type": "markdown",
   "metadata": {},
   "source": [
    "# Indicators descriptives statistics"
   ]
  },
  {
   "cell_type": "code",
   "execution_count": 1,
   "metadata": {},
   "outputs": [],
   "source": [
    "import time\n",
    "import os \n",
    "os.chdir('../../')\n",
    "\n",
    "import tqdm\n",
    "import yaml \n",
    "import pandas as pd\n",
    "\n",
    "from package.indicators.utils import * \n",
    "from package import Dataset\n",
    "\n",
    "with open(\"mongo_config.yaml\", \"r\") as infile:\n",
    "    pars = yaml.safe_load(infile)['PC_BETA']\n",
    "    \n",
    "client = pymongo.MongoClient(pars['client_name'])\n",
    "db = client[pars['db_name']]\n",
    "collection = db[pars['pkg']['collection_name']]"
   ]
  },
  {
   "cell_type": "code",
   "execution_count": 2,
   "metadata": {},
   "outputs": [
    {
     "name": "stderr",
     "output_type": "stream",
     "text": [
      "488363it [05:33, 1462.66it/s]\n",
      "498691it [21:38, 384.20it/s] \n",
      "513695it [20:37, 415.07it/s]\n",
      "536511it [31:10, 286.86it/s]\n",
      "571260it [29:04, 327.46it/s] \n",
      "603464it [22:53, 439.50it/s]\n"
     ]
    }
   ],
   "source": [
    "for year in range(2000,2006):\n",
    "    docs = collection.find({pars['pkg']['year_var']:year})\n",
    "    docs_list = [doc for doc in tqdm.tqdm(docs) if 'journal_commonness_score' in doc.keys()]\n",
    "    df = pd.DataFrame(docs_list)\n",
    "    df.to_csv('Data/test_indicator_df_'+str(year)+'.csv')"
   ]
  },
  {
   "cell_type": "code",
   "execution_count": null,
   "metadata": {},
   "outputs": [],
   "source": [
    "\n"
   ]
  },
  {
   "cell_type": "code",
   "execution_count": null,
   "metadata": {},
   "outputs": [],
   "source": []
  }
 ],
 "metadata": {
  "kernelspec": {
   "display_name": "Python 3",
   "language": "python",
   "name": "python3"
  },
  "language_info": {
   "codemirror_mode": {
    "name": "ipython",
    "version": 3
   },
   "file_extension": ".py",
   "mimetype": "text/x-python",
   "name": "python",
   "nbconvert_exporter": "python",
   "pygments_lexer": "ipython3",
   "version": "3.8.3"
  }
 },
 "nbformat": 4,
 "nbformat_minor": 4
}
