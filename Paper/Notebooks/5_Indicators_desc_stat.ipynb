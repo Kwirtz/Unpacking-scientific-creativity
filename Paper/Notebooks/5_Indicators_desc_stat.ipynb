{
 "cells": [
  {
   "cell_type": "markdown",
   "metadata": {},
   "source": [
    "# Indicators descriptives statistics"
   ]
  },
  {
   "cell_type": "code",
   "execution_count": 1,
   "metadata": {},
   "outputs": [],
   "source": [
    "import time\n",
    "import os \n",
    "os.chdir('../../')\n",
    "\n",
    "import tqdm\n",
    "import yaml \n",
    "import pandas as pd\n",
    "\n",
    "from package.indicators.utils import * \n",
    "from package import Dataset\n",
    "\n",
    "with open(\"mongo_config.yaml\", \"r\") as infile:\n",
    "    pars = yaml.safe_load(infile)['PC_BETA']\n",
    "    \n",
    "client = pymongo.MongoClient(pars['client_name'])\n",
    "db = client[pars['db_name']]\n",
    "collection = db[pars['pkg']['collection_name']]"
   ]
  },
  {
   "cell_type": "code",
   "execution_count": null,
   "metadata": {},
   "outputs": [
    {
     "name": "stderr",
     "output_type": "stream",
     "text": [
      "12512353it [3:07:52, 410.83it/s] "
     ]
    }
   ],
   "source": [
    "docs = collection.find()\n",
    "\n",
    "docs_list = [doc for doc in tqdm.tqdm(docs) if 'journal_commonness_score' in doc.keys()]\n",
    "df = pd.DataFrame(docs_list)"
   ]
  },
  {
   "cell_type": "code",
   "execution_count": null,
   "metadata": {},
   "outputs": [],
   "source": []
  }
 ],
 "metadata": {
  "kernelspec": {
   "display_name": "Python 3",
   "language": "python",
   "name": "python3"
  },
  "language_info": {
   "codemirror_mode": {
    "name": "ipython",
    "version": 3
   },
   "file_extension": ".py",
   "mimetype": "text/x-python",
   "name": "python",
   "nbconvert_exporter": "python",
   "pygments_lexer": "ipython3",
   "version": "3.8.3"
  }
 },
 "nbformat": 4,
 "nbformat_minor": 4
}
