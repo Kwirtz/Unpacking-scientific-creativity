{
 "cells": [
  {
   "cell_type": "markdown",
   "metadata": {},
   "source": [
    "# Our Indicator\n",
    "\n",
    "## Concept\n",
    "\n",
    "- The main idea of our indicator is to create a methodoly that can be used on any type of data (references, keyword, authors information,...) and that measure the complexity to combine pairs of element. The more complex the combination the more atypical it is.\n",
    "\n",
    "- Most of the existing indicators use co-occurrence matrix (because novelty = combination of previous knowledge) but not a lot of papers emphasize the fact that this matrix is just an adjacency matrix and therefore is a graph. Treating the co-occurrence matrix as network opens the door to several methodology that is used in graph theory.\n",
    "\n",
    "- We are most interested in community detection and link prediction algorithms. Using both of this method we can overcome the constraint of novelty which is to only look if the combination of pairs is new. The novelty of pairs is heterogeneous and not every new pairs are equivalently novel. A new combination of pairs of node intra-community is less novel than a combination inter-community. A new edge that had a probability of 95% to be created is less novel than an edge with probability 5%.\n",
    "\n",
    "### Community algorithm\n",
    "\n",
    "- Depending on the community algorithm you use you can have different type of co-occurrence matrix as input (weighted,directed,multi-edge,...) in our case we will focus on undirected weighted algorithms.\n",
    "\n",
    "- We start by creating the co-occurrence/adjacency matrix $G_{y:y-t}=(V_y,E_{y:y-t},w_{y:y-t})$  where $w_{y:y-t}(V_{y:y-t,i},V_{y:y-t,j})$ represents the number of combination of elements (journals/keywords/authors) $V_i$ and $V_j$ between year $y-t$ and $y$. For the moment in our analysis t = 0 so we will use the notation $G_{y}$\n",
    "\n",
    "- From the adjacency matrix we create B random subgraph without replacement for each year noted $(G_{y,1}$,...  $G_{y,b}$,...,$G_{y,B})$. The subgraphs contains 90% random node from the original $G_{y}$.\n",
    "\n",
    "- For each subgraph we run a community algorithm $c(G_{y,b})$ and obtain a partition.\n",
    "\n",
    "- We then create two matrix $A_{NxN}$ and $B_{NxN}$ Where $N =\\sum_{j=1}^{J}1$. $A_{i,j}$ is the number of times node $i$ and $j$ where in the same communities and $B_{i,j}$ the number of times nodes $i$ and $j$ appeared in the subgraph together.\n",
    "\n",
    "- We then then calculate $OurIndicator = 1-(\\frac{A_{NxN}}{B_{NxN}}) $ Where $\\frac{A_{NxN}}{B_{NxN}}$ is an Hadamard division and $OurIndicator_{i,j}$ is our atypicality score for combination $i,j$\n",
    "\n",
    "\n",
    "\n",
    "## Implementation\n",
    "\n",
    "### Community algorithm\n",
    "\n"
   ]
  },
  {
   "cell_type": "code",
   "execution_count": 2,
   "metadata": {},
   "outputs": [
    {
     "ename": "ModuleNotFoundError",
     "evalue": "No module named 'package'",
     "output_type": "error",
     "traceback": [
      "\u001b[1;31m---------------------------------------------------------------------------\u001b[0m",
      "\u001b[1;31mModuleNotFoundError\u001b[0m                       Traceback (most recent call last)",
      "\u001b[1;32m<ipython-input-2-0a592318160b>\u001b[0m in \u001b[0;36m<module>\u001b[1;34m\u001b[0m\n\u001b[0;32m      2\u001b[0m \u001b[0mos\u001b[0m\u001b[1;33m.\u001b[0m\u001b[0mchdir\u001b[0m\u001b[1;33m(\u001b[0m\u001b[1;34m'../../'\u001b[0m\u001b[1;33m)\u001b[0m\u001b[1;33m\u001b[0m\u001b[1;33m\u001b[0m\u001b[0m\n\u001b[0;32m      3\u001b[0m \u001b[1;33m\u001b[0m\u001b[0m\n\u001b[1;32m----> 4\u001b[1;33m \u001b[1;32mfrom\u001b[0m \u001b[0mpackage\u001b[0m\u001b[1;33m.\u001b[0m\u001b[0mgraphs\u001b[0m\u001b[1;33m.\u001b[0m\u001b[0mcommunity\u001b[0m\u001b[1;33m.\u001b[0m\u001b[0mutils\u001b[0m \u001b[1;32mimport\u001b[0m \u001b[1;33m*\u001b[0m\u001b[1;33m\u001b[0m\u001b[1;33m\u001b[0m\u001b[0m\n\u001b[0m",
      "\u001b[1;31mModuleNotFoundError\u001b[0m: No module named 'package'"
     ]
    }
   ],
   "source": [
    "import os \n",
    "os.chdir('../../')\n",
    "\n",
    "from package.graphs.community.utils import * "
   ]
  }
 ],
 "metadata": {
  "kernelspec": {
   "display_name": "Python 3",
   "language": "python",
   "name": "python3"
  },
  "language_info": {
   "codemirror_mode": {
    "name": "ipython",
    "version": 3
   },
   "file_extension": ".py",
   "mimetype": "text/x-python",
   "name": "python",
   "nbconvert_exporter": "python",
   "pygments_lexer": "ipython3",
   "version": "3.8.3"
  },
  "toc": {
   "base_numbering": 1,
   "nav_menu": {},
   "number_sections": true,
   "sideBar": false,
   "skip_h1_title": false,
   "title_cell": "Table of Contents",
   "title_sidebar": "Contents",
   "toc_cell": false,
   "toc_position": {},
   "toc_section_display": true,
   "toc_window_display": false
  },
  "varInspector": {
   "cols": {
    "lenName": 16,
    "lenType": 16,
    "lenVar": 40
   },
   "kernels_config": {
    "python": {
     "delete_cmd_postfix": "",
     "delete_cmd_prefix": "del ",
     "library": "var_list.py",
     "varRefreshCmd": "print(var_dic_list())"
    },
    "r": {
     "delete_cmd_postfix": ") ",
     "delete_cmd_prefix": "rm(",
     "library": "var_list.r",
     "varRefreshCmd": "cat(var_dic_list()) "
    }
   },
   "types_to_exclude": [
    "module",
    "function",
    "builtin_function_or_method",
    "instance",
    "_Feature"
   ],
   "window_display": false
  }
 },
 "nbformat": 4,
 "nbformat_minor": 5
}
